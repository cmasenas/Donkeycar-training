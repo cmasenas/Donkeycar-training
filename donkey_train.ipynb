{
 "cells": [
  {
   "cell_type": "markdown",
   "metadata": {},
   "source": [
    "### This jupyter notebook is a condensation of Will Roscoe's code for the training of donkeycar data.\n",
    "This is a much smaller version and may be easier to follow for beginners."
   ]
  },
  {
   "cell_type": "code",
   "execution_count": 1,
   "metadata": {},
   "outputs": [
    {
     "name": "stdout",
     "output_type": "stream",
     "text": [
      "using donkey version: 2.5.7 ...\n"
     ]
    }
   ],
   "source": [
    "\"\"\"\n",
    "Pull in required libraries\n",
    "\"\"\"\n",
    "from donkeycar.parts.keras import KerasLinear, default_linear\n",
    "from donkeycar.parts.datastore import TubGroup\n",
    "import IPython.display\n",
    "from PIL import Image\n",
    "import numpy as np\n",
    "import cv2\n",
    "import matplotlib.pyplot as plt\n",
    "from tensorflow.python.keras.layers import Input, Convolution2D, Dropout, Flatten, Dense, MaxPooling2D\n",
    "from tensorflow.python.keras.models import Model"
   ]
  },
  {
   "cell_type": "markdown",
   "metadata": {},
   "source": [
    "The next cell reads the data and puts it in a form to be processed by the training function.  Since the data\n",
    "files are big, the training function processes batches of moderate size at a time.  The function train_generator\n",
    "serves up a tensor, X, of input images and a tensor, Y, of steering, throttle values each time it is called."
   ]
  },
  {
   "cell_type": "code",
   "execution_count": 2,
   "metadata": {},
   "outputs": [
    {
     "name": "stdout",
     "output_type": "stream",
     "text": [
      "train length: 3610 validation length:  903\n"
     ]
    }
   ],
   "source": [
    "new_model_path = '/Users/cmasenas/mycar/models/newmodel2'   # modify as necessary\n",
    "base_model_path = '/Users/cmasenas/mycar/models/mypilot'\n",
    "tubgroup = TubGroup('/Users/cmasenas/mycar/tub')\n",
    "\n",
    "BATCH_SIZE = 128\n",
    "TRAIN_TEST_SPLIT = 0.8\n",
    "IMAGE_SCALE = 255 # this should be either 1 (unscaled image) or 255 (scaled)\n",
    "SHUFFLE = True\n",
    "\n",
    "X_keys = ['cam/image_array']\n",
    "y_keys = ['user/angle', 'user/throttle']\n",
    "\n",
    "df = tubgroup.df[X_keys + y_keys]  # dataframe including only image, angle, throttle\n",
    "\n",
    "# next line produces a pandas dataframe for training \n",
    "if SHUFFLE == True:\n",
    "    train_df = df.sample(frac=TRAIN_TEST_SPLIT, random_state=200)  # shuffles rows\n",
    "else:\n",
    "    train_df = df[:int(len(df)*TRAIN_TEST_SPLIT)]    # does not shuffle rows\n",
    "# next line produces a pandas dataframe for validation\n",
    "val_df = df.drop(train_df.index)\n",
    "print('train length:', len(train_df), 'validation length: ', len(val_df))\n",
    "        \n",
    "def record_generator(df):\n",
    "    '''This function grabs a dataframe (df) row each time next(record)\n",
    "    is called in the batch_generator function'''\n",
    "    while True:\n",
    "        record = {}\n",
    "        for index, row in df.iterrows():   \n",
    "            record = row\n",
    "            for key in X_keys:    # replace image file name values with image array values\n",
    "                record[key] =  np.array(cv2.imread(row[key])) / IMAGE_SCALE\n",
    "                #record[key] =  np.array(Image.open(row[key])) / IMAGE_SCALE\n",
    "            yield record    # 'record' is a dictionary holding one image, one angle, and one throttle value\n",
    "            \n",
    "def batch_generator(df): \n",
    "    '''This function produces a dictionary.\n",
    "    Keys are defined in X_keys and y_keys.\n",
    "    Values are arrays of length BATCH_SIZE from record values ''' \n",
    "    record = record_generator(df)\n",
    "    while True:\n",
    "        record_list = [ next(record) for _ in range(BATCH_SIZE) ]  # this line produces batch of dictionary records\n",
    "        batch_arrays = {}\n",
    "        for _ , key in enumerate( X_keys + y_keys ):   # this loop produces an array for each key in X_keys + y_keys\n",
    "            arr = np.array([r[key] for r in record_list ])               \n",
    "            batch_arrays[key] = arr\n",
    "        yield batch_arrays     # a dictionary with X_keys + y_keys and arrays as values \n",
    "              \n",
    "def train_generator(df):\n",
    "    '''Produces a tuple: X_key arrays, y_key arrays\n",
    "    first tuple value: 4D array (array of 3D images)\n",
    "    second tuple value: 2D array (1D steering values, 1D throttle values) '''\n",
    "    batch_gen = batch_generator(df) \n",
    "    while True:\n",
    "        batch = next(batch_gen)\n",
    "        X = [batch[k] for k in X_keys]\n",
    "        Y = [batch[k] for k in y_keys]\n",
    "        yield X, Y   # a tuple of X_key arrays, y_key arrays\n",
    "\n"
   ]
  },
  {
   "cell_type": "markdown",
   "metadata": {},
   "source": [
    "The below test_model can be modified for experimentation."
   ]
  },
  {
   "cell_type": "code",
   "execution_count": 3,
   "metadata": {},
   "outputs": [],
   "source": [
    "def test_model():\n",
    "    img_in = Input(shape=(120, 160, 3), name='img_in')\n",
    "    x = img_in\n",
    "\n",
    "    # Convolution2D class name is an alias for Conv2D\n",
    "    x = Convolution2D(filters=24, kernel_size=(5, 5), strides=(2, 2), activation='relu')(x)\n",
    "    x = Convolution2D(filters=32, kernel_size=(5, 5), strides=(2, 2), activation='relu')(x)\n",
    "    x = Convolution2D(filters=64, kernel_size=(5, 5), strides=(2, 2), activation='relu')(x)\n",
    "    x = Convolution2D(filters=64, kernel_size=(3, 3), strides=(2, 2), activation='relu')(x)\n",
    "    x = Convolution2D(filters=64, kernel_size=(3, 3), strides=(1, 1), activation='relu')(x)\n",
    "\n",
    "    x = Flatten(name='flattened')(x)\n",
    "    x = Dense(units=100, activation='linear')(x)\n",
    "    x = Dropout(rate=.1)(x)\n",
    "    x = Dense(units=50, activation='linear')(x)\n",
    "    x = Dropout(rate=.1)(x)\n",
    "    # categorical output of the angle\n",
    "    angle_out = Dense(units=1, activation='linear', name='angle_out')(x)\n",
    "\n",
    "    # continous output of throttle\n",
    "    throttle_out = Dense(units=1, activation='linear', name='throttle_out')(x)\n",
    "\n",
    "    model = Model(inputs=[img_in], outputs=[angle_out, throttle_out])\n",
    "\n",
    "    model.compile(optimizer='adam',\n",
    "                  loss={'angle_out': 'mean_squared_error',\n",
    "                        'throttle_out': 'mean_squared_error'},\n",
    "                  loss_weights={'angle_out': 0.9, 'throttle_out': 0.1})\n",
    "\n",
    "    return model\n"
   ]
  },
  {
   "cell_type": "markdown",
   "metadata": {},
   "source": [
    "The next cell does the training."
   ]
  },
  {
   "cell_type": "code",
   "execution_count": 4,
   "metadata": {},
   "outputs": [
    {
     "name": "stdout",
     "output_type": "stream",
     "text": [
      "WARNING:tensorflow:From /anaconda3/envs/donkey/lib/python3.6/site-packages/tensorflow/python/ops/resource_variable_ops.py:435: colocate_with (from tensorflow.python.framework.ops) is deprecated and will be removed in a future version.\n",
      "Instructions for updating:\n",
      "Colocations handled automatically by placer.\n",
      "WARNING:tensorflow:From /anaconda3/envs/donkey/lib/python3.6/site-packages/tensorflow/python/keras/layers/core.py:143: calling dropout (from tensorflow.python.ops.nn_ops) with keep_prob is deprecated and will be removed in a future version.\n",
      "Instructions for updating:\n",
      "Please use `rate` instead of `keep_prob`. Rate should be set to `rate = 1 - keep_prob`.\n",
      "WARNING:tensorflow:From /anaconda3/envs/donkey/lib/python3.6/site-packages/tensorflow/python/keras/utils/losses_utils.py:170: to_float (from tensorflow.python.ops.math_ops) is deprecated and will be removed in a future version.\n",
      "Instructions for updating:\n",
      "Use tf.cast instead.\n",
      "WARNING:tensorflow:From /anaconda3/envs/donkey/lib/python3.6/site-packages/tensorflow/python/ops/math_ops.py:3066: to_int32 (from tensorflow.python.ops.math_ops) is deprecated and will be removed in a future version.\n",
      "Instructions for updating:\n",
      "Use tf.cast instead.\n",
      "Epoch 1/20\n",
      "6/6 [==============================] - 2s 317ms/step - loss: 0.1584 - angle_out_loss: 0.1723 - throttle_out_loss: 0.0337\n",
      "\n",
      "Epoch 00001: val_loss improved from inf to 0.15839, saving model to /Users/cmasenas/mycar/models/newmodel2\n",
      "28/28 [==============================] - 19s 671ms/step - loss: 0.2713 - angle_out_loss: 0.2926 - throttle_out_loss: 0.0792 - val_loss: 0.1584 - val_angle_out_loss: 0.1723 - val_throttle_out_loss: 0.0337\n",
      "Epoch 2/20\n",
      "6/6 [==============================] - 2s 319ms/step - loss: 0.1274 - angle_out_loss: 0.1401 - throttle_out_loss: 0.0131\n",
      "\n",
      "Epoch 00002: val_loss improved from 0.15839 to 0.12740, saving model to /Users/cmasenas/mycar/models/newmodel2\n",
      "28/28 [==============================] - 18s 648ms/step - loss: 0.1631 - angle_out_loss: 0.1776 - throttle_out_loss: 0.0328 - val_loss: 0.1274 - val_angle_out_loss: 0.1401 - val_throttle_out_loss: 0.0131\n",
      "Epoch 3/20\n",
      "6/6 [==============================] - 2s 325ms/step - loss: 0.1070 - angle_out_loss: 0.1177 - throttle_out_loss: 0.0111\n",
      "\n",
      "Epoch 00003: val_loss improved from 0.12740 to 0.10702, saving model to /Users/cmasenas/mycar/models/newmodel2\n",
      "28/28 [==============================] - 20s 721ms/step - loss: 0.1267 - angle_out_loss: 0.1370 - throttle_out_loss: 0.0339 - val_loss: 0.1070 - val_angle_out_loss: 0.1177 - val_throttle_out_loss: 0.0111\n",
      "Epoch 4/20\n",
      "6/6 [==============================] - 2s 321ms/step - loss: 0.1074 - angle_out_loss: 0.1177 - throttle_out_loss: 0.0148\n",
      "\n",
      "Epoch 00004: val_loss did not improve from 0.10702\n",
      "28/28 [==============================] - 19s 683ms/step - loss: 0.1149 - angle_out_loss: 0.1246 - throttle_out_loss: 0.0283 - val_loss: 0.1074 - val_angle_out_loss: 0.1177 - val_throttle_out_loss: 0.0148\n",
      "Epoch 5/20\n",
      "6/6 [==============================] - 2s 325ms/step - loss: 0.0936 - angle_out_loss: 0.1034 - throttle_out_loss: 0.0053\n",
      "\n",
      "Epoch 00005: val_loss improved from 0.10702 to 0.09357, saving model to /Users/cmasenas/mycar/models/newmodel2\n",
      "28/28 [==============================] - 19s 682ms/step - loss: 0.0958 - angle_out_loss: 0.1048 - throttle_out_loss: 0.0148 - val_loss: 0.0936 - val_angle_out_loss: 0.1034 - val_throttle_out_loss: 0.0053\n",
      "Epoch 6/20\n",
      "6/6 [==============================] - 2s 314ms/step - loss: 0.0816 - angle_out_loss: 0.0901 - throttle_out_loss: 0.0054\n",
      "\n",
      "Epoch 00006: val_loss improved from 0.09357 to 0.08161, saving model to /Users/cmasenas/mycar/models/newmodel2\n",
      "28/28 [==============================] - 19s 675ms/step - loss: 0.0867 - angle_out_loss: 0.0950 - throttle_out_loss: 0.0118 - val_loss: 0.0816 - val_angle_out_loss: 0.0901 - val_throttle_out_loss: 0.0054\n",
      "Epoch 7/20\n",
      "6/6 [==============================] - 2s 316ms/step - loss: 0.0893 - angle_out_loss: 0.0986 - throttle_out_loss: 0.0053\n",
      "\n",
      "Epoch 00007: val_loss did not improve from 0.08161\n",
      "28/28 [==============================] - 19s 670ms/step - loss: 0.0823 - angle_out_loss: 0.0902 - throttle_out_loss: 0.0112 - val_loss: 0.0893 - val_angle_out_loss: 0.0986 - val_throttle_out_loss: 0.0053\n",
      "Epoch 8/20\n",
      "6/6 [==============================] - 2s 320ms/step - loss: 0.0719 - angle_out_loss: 0.0794 - throttle_out_loss: 0.0050\n",
      "\n",
      "Epoch 00008: val_loss improved from 0.08161 to 0.07194, saving model to /Users/cmasenas/mycar/models/newmodel2\n",
      "28/28 [==============================] - 19s 671ms/step - loss: 0.0828 - angle_out_loss: 0.0907 - throttle_out_loss: 0.0114 - val_loss: 0.0719 - val_angle_out_loss: 0.0794 - val_throttle_out_loss: 0.0050\n",
      "Epoch 9/20\n",
      "6/6 [==============================] - 2s 323ms/step - loss: 0.0722 - angle_out_loss: 0.0799 - throttle_out_loss: 0.0031\n",
      "\n",
      "Epoch 00009: val_loss did not improve from 0.07194\n",
      "28/28 [==============================] - 19s 673ms/step - loss: 0.0759 - angle_out_loss: 0.0832 - throttle_out_loss: 0.0097 - val_loss: 0.0722 - val_angle_out_loss: 0.0799 - val_throttle_out_loss: 0.0031\n",
      "Epoch 10/20\n",
      "6/6 [==============================] - 2s 320ms/step - loss: 0.0713 - angle_out_loss: 0.0788 - throttle_out_loss: 0.0034\n",
      "\n",
      "Epoch 00010: val_loss improved from 0.07194 to 0.07126, saving model to /Users/cmasenas/mycar/models/newmodel2\n",
      "28/28 [==============================] - 19s 677ms/step - loss: 0.0707 - angle_out_loss: 0.0775 - throttle_out_loss: 0.0098 - val_loss: 0.0713 - val_angle_out_loss: 0.0788 - val_throttle_out_loss: 0.0034\n",
      "Epoch 11/20\n",
      "6/6 [==============================] - 2s 318ms/step - loss: 0.0692 - angle_out_loss: 0.0766 - throttle_out_loss: 0.0026\n",
      "\n",
      "Epoch 00011: val_loss improved from 0.07126 to 0.06918, saving model to /Users/cmasenas/mycar/models/newmodel2\n",
      "28/28 [==============================] - 19s 673ms/step - loss: 0.0674 - angle_out_loss: 0.0740 - throttle_out_loss: 0.0088 - val_loss: 0.0692 - val_angle_out_loss: 0.0766 - val_throttle_out_loss: 0.0026\n",
      "Epoch 12/20\n",
      "6/6 [==============================] - 2s 316ms/step - loss: 0.0656 - angle_out_loss: 0.0723 - throttle_out_loss: 0.0056\n",
      "\n",
      "Epoch 00012: val_loss improved from 0.06918 to 0.06564, saving model to /Users/cmasenas/mycar/models/newmodel2\n",
      "28/28 [==============================] - 19s 679ms/step - loss: 0.0621 - angle_out_loss: 0.0679 - throttle_out_loss: 0.0095 - val_loss: 0.0656 - val_angle_out_loss: 0.0723 - val_throttle_out_loss: 0.0056\n",
      "Epoch 13/20\n",
      "6/6 [==============================] - 2s 325ms/step - loss: 0.0692 - angle_out_loss: 0.0764 - throttle_out_loss: 0.0046\n",
      "\n",
      "Epoch 00013: val_loss did not improve from 0.06564\n",
      "28/28 [==============================] - 19s 679ms/step - loss: 0.0567 - angle_out_loss: 0.0620 - throttle_out_loss: 0.0089 - val_loss: 0.0692 - val_angle_out_loss: 0.0764 - val_throttle_out_loss: 0.0046\n",
      "Epoch 14/20\n",
      "6/6 [==============================] - 2s 320ms/step - loss: 0.0689 - angle_out_loss: 0.0762 - throttle_out_loss: 0.0035\n",
      "\n",
      "Epoch 00014: val_loss did not improve from 0.06564\n",
      "28/28 [==============================] - 19s 678ms/step - loss: 0.0534 - angle_out_loss: 0.0584 - throttle_out_loss: 0.0082 - val_loss: 0.0689 - val_angle_out_loss: 0.0762 - val_throttle_out_loss: 0.0035\n",
      "Epoch 15/20\n",
      "6/6 [==============================] - 2s 322ms/step - loss: 0.0699 - angle_out_loss: 0.0772 - throttle_out_loss: 0.0041\n",
      "\n",
      "Epoch 00015: val_loss did not improve from 0.06564\n",
      "28/28 [==============================] - 19s 678ms/step - loss: 0.0529 - angle_out_loss: 0.0579 - throttle_out_loss: 0.0085 - val_loss: 0.0699 - val_angle_out_loss: 0.0772 - val_throttle_out_loss: 0.0041\n",
      "Epoch 16/20\n",
      "6/6 [==============================] - 2s 321ms/step - loss: 0.0690 - angle_out_loss: 0.0762 - throttle_out_loss: 0.0040\n",
      "\n",
      "Epoch 00016: val_loss did not improve from 0.06564\n",
      "28/28 [==============================] - 19s 688ms/step - loss: 0.0531 - angle_out_loss: 0.0581 - throttle_out_loss: 0.0086 - val_loss: 0.0690 - val_angle_out_loss: 0.0762 - val_throttle_out_loss: 0.0040\n",
      "Epoch 17/20\n",
      "6/6 [==============================] - 2s 316ms/step - loss: 0.0647 - angle_out_loss: 0.0716 - throttle_out_loss: 0.0025\n",
      "\n",
      "Epoch 00017: val_loss improved from 0.06564 to 0.06467, saving model to /Users/cmasenas/mycar/models/newmodel2\n",
      "28/28 [==============================] - 19s 695ms/step - loss: 0.0506 - angle_out_loss: 0.0554 - throttle_out_loss: 0.0078 - val_loss: 0.0647 - val_angle_out_loss: 0.0716 - val_throttle_out_loss: 0.0025\n"
     ]
    },
    {
     "name": "stdout",
     "output_type": "stream",
     "text": [
      "Epoch 18/20\n",
      "6/6 [==============================] - 2s 321ms/step - loss: 0.0586 - angle_out_loss: 0.0649 - throttle_out_loss: 0.0024\n",
      "\n",
      "Epoch 00018: val_loss improved from 0.06467 to 0.05864, saving model to /Users/cmasenas/mycar/models/newmodel2\n",
      "28/28 [==============================] - 19s 693ms/step - loss: 0.0489 - angle_out_loss: 0.0535 - throttle_out_loss: 0.0079 - val_loss: 0.0586 - val_angle_out_loss: 0.0649 - val_throttle_out_loss: 0.0024\n",
      "Epoch 19/20\n",
      "6/6 [==============================] - 2s 312ms/step - loss: 0.0594 - angle_out_loss: 0.0659 - throttle_out_loss: 9.4083e-04\n",
      "\n",
      "Epoch 00019: val_loss did not improve from 0.05864\n",
      "28/28 [==============================] - 20s 697ms/step - loss: 0.0432 - angle_out_loss: 0.0472 - throttle_out_loss: 0.0072 - val_loss: 0.0594 - val_angle_out_loss: 0.0659 - val_throttle_out_loss: 9.4083e-04\n",
      "Epoch 20/20\n",
      "6/6 [==============================] - 2s 321ms/step - loss: 0.0563 - angle_out_loss: 0.0625 - throttle_out_loss: 0.0011\n",
      "\n",
      "Epoch 00020: val_loss improved from 0.05864 to 0.05635, saving model to /Users/cmasenas/mycar/models/newmodel2\n",
      "28/28 [==============================] - 19s 695ms/step - loss: 0.0376 - angle_out_loss: 0.0409 - throttle_out_loss: 0.0073 - val_loss: 0.0563 - val_angle_out_loss: 0.0625 - val_throttle_out_loss: 0.0011\n"
     ]
    }
   ],
   "source": [
    "kl = KerasLinear(model = test_model())  # omitting the argument uses the default_linear model\n",
    "history =   kl.train(train_generator(train_df),  \n",
    "                     train_generator(val_df) ,  \n",
    "                     saved_model_path=new_model_path,\n",
    "                     steps = int(len(tubgroup.df) * TRAIN_TEST_SPLIT // BATCH_SIZE),\n",
    "                     train_split = TRAIN_TEST_SPLIT,\n",
    "                     epochs = 20)"
   ]
  },
  {
   "cell_type": "markdown",
   "metadata": {},
   "source": [
    "Take a look at the losses over epochs."
   ]
  },
  {
   "cell_type": "code",
   "execution_count": 5,
   "metadata": {},
   "outputs": [
    {
     "name": "stdout",
     "output_type": "stream",
     "text": [
      "dict_keys(['loss', 'angle_out_loss', 'throttle_out_loss', 'val_loss', 'val_angle_out_loss', 'val_throttle_out_loss'])\n"
     ]
    },
    {
     "data": {
      "image/png": "[encoded data removed]",
      "text/plain": [
       "<Figure size 432x288 with 1 Axes>"
      ]
     },
     "metadata": {
      "needs_background": "light"
     },
     "output_type": "display_data"
    }
   ],
   "source": [
    "history_dict = history.history\n",
    "print(history_dict.keys())\n",
    "\n",
    "loss = history_dict['loss']\n",
    "val_loss = history_dict['val_loss']\n",
    "epochs = range(1, len(loss)+1)\n",
    "plt.plot(epochs, loss, 'bo', label='Training loss')\n",
    "plt.plot(epochs, val_loss, 'ro', label='Validation loss')\n",
    "plt.title('Training and validation loss')\n",
    "plt.xlabel('Epochs')\n",
    "plt.ylabel('Loss')\n",
    "plt.yscale('log')\n",
    "plt.legend()\n",
    "plt.show()"
   ]
  },
  {
   "cell_type": "markdown",
   "metadata": {},
   "source": [
    "## Predict steering and throttle from the model\n",
    "Use the calculated model to produce predictions based on images."
   ]
  },
  {
   "cell_type": "code",
   "execution_count": 6,
   "metadata": {},
   "outputs": [],
   "source": [
    "fileseries = tubgroup.df['cam/image_array']\n",
    "img_arr = []\n",
    "for file in fileseries:\n",
    "    image = cv2.imread(file)\n",
    "    img_arr.append(image)\n",
    "outputs = kl.model.predict(np.array(img_arr)/IMAGE_SCALE)\n",
    "steering_prediction = outputs[0]\n",
    "throttle_prediction = outputs[1]"
   ]
  },
  {
   "cell_type": "markdown",
   "metadata": {},
   "source": [
    "The below scattergram of points displays measured vs predicted steering and throttle values.  \n",
    "Ideally, predicted values should match measured values and points should fall on the red line \n",
    "indicating measured = predicted."
   ]
  },
  {
   "cell_type": "code",
   "execution_count": 14,
   "metadata": {},
   "outputs": [
    {
     "data": {
      "image/png": "[encoded data removed]",
      "text/plain": [
       "<Figure size 432x288 with 1 Axes>"
      ]
     },
     "metadata": {
      "needs_background": "light"
     },
     "output_type": "display_data"
    }
   ],
   "source": [
    "plt.title(\"Measured vs Predicted Steering\", fontsize=18, y=1.02)\n",
    "plt.xlabel(\"Measured\", fontsize=14, labelpad=15)\n",
    "plt.ylabel(\"Predicted\", fontsize=14, labelpad=15)\n",
    "plt.plot(tubgroup.df['user/angle'], steering_prediction.flatten(),'bo')\n",
    "plt.plot([-1,1],[-1,1],'r', linewidth = 4)\n",
    "plt.show()"
   ]
  },
  {
   "cell_type": "code",
   "execution_count": 15,
   "metadata": {},
   "outputs": [
    {
     "data": {
      "image/png": "[encoded data removed]",
      "text/plain": [
       "<Figure size 432x288 with 1 Axes>"
      ]
     },
     "metadata": {
      "needs_background": "light"
     },
     "output_type": "display_data"
    }
   ],
   "source": [
    "plt.title(\"Measured vs Predicted Throttle\", fontsize=18, y=1.02)\n",
    "plt.xlabel(\"Measured\", fontsize=14, labelpad=15)\n",
    "plt.ylabel(\"Predicted\", fontsize=14, labelpad=15)\n",
    "plt.plot(tubgroup.df['user/throttle'], throttle_prediction.flatten(),'bo')\n",
    "plt.plot([0,1],[0,1],'r', linewidth = 4)\n",
    "plt.show()"
   ]
  },
  {
   "cell_type": "code",
   "execution_count": null,
   "metadata": {},
   "outputs": [],
   "source": []
  }
 ],
 "metadata": {
  "kernelspec": {
   "display_name": "Python 3",
   "language": "python",
   "name": "python3"
  },
  "language_info": {
   "codemirror_mode": {
    "name": "ipython",
    "version": 3
   },
   "file_extension": ".py",
   "mimetype": "text/x-python",
   "name": "python",
   "nbconvert_exporter": "python",
   "pygments_lexer": "ipython3",
   "version": "3.6.2"
  }
 },
 "nbformat": 4,
 "nbformat_minor": 2
}
